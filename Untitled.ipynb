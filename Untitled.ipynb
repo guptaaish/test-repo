{
 "cells": [
  {
   "cell_type": "markdown",
   "metadata": {},
   "source": [
    "# After importing all the required libraries "
   ]
  },
  {
   "cell_type": "code",
   "execution_count": 1,
   "metadata": {},
   "outputs": [],
   "source": [
    "import pandas as pd\n",
    "import numpy as np\n",
    "import seaborn as sns\n",
    "\n",
    "%matplotlib inline\n",
    "import matplotlib.pyplot as plt\n",
    "from matplotlib import style"
   ]
  },
  {
   "cell_type": "markdown",
   "metadata": {},
   "source": [
    "Read the required CSV file and everything"
   ]
  },
  {
   "cell_type": "code",
   "execution_count": null,
   "metadata": {},
   "outputs": [],
   "source": [
    "#It displays the data types of all the columns in the data set\n",
    "#train_titan is a pandas data set\n",
    "train_titan.info()\n",
    "\n",
    "#When there are numerical values in your data\n",
    "#You use this to get the univariate analysis\n",
    "train_titan.describe()"
   ]
  },
  {
   "cell_type": "raw",
   "metadata": {},
   "source": [
    "class pandas.DataFrame(data=None, index=None, columns=None, dtype=None, copy=False)\n",
    "\n",
    "\n",
    "DataFrame.round([decimals])\t                     Round a DataFrame to a variable number of decimal places.\n",
    "DataFrame.mode([axis, numeric_only])\t         Gets the mode(s) of each element along the axis selected.\n",
    "DataFrame.pct_change([periods, fill_method, …])\t Percentage change between the current and a prior element.\n",
    "DataFrame.median([axis, skipna, level, …])\t     Return the median of the values for the requested axis\n",
    "DataFrame.kurtosis([axis, skipna, level, …])\t Return unbiased kurtosis over requested axis using Fisher’s definition of kurtosis (kurtosis of normal == 0.0)\n",
    "\n",
    "DataFrame.corr([method, min_periods])\t         Compute pairwise correlation of columns, excluding NA/null values\n",
    "DataFrame.cov([min_periods])\t                 Compute pairwise covariance of columns, excluding NA/null values."
   ]
  },
  {
   "cell_type": "code",
   "execution_count": null,
   "metadata": {},
   "outputs": [],
   "source": []
  }
 ],
 "metadata": {
  "kernelspec": {
   "display_name": "Python 3",
   "language": "python",
   "name": "python3"
  },
  "language_info": {
   "codemirror_mode": {
    "name": "ipython",
    "version": 3
   },
   "file_extension": ".py",
   "mimetype": "text/x-python",
   "name": "python",
   "nbconvert_exporter": "python",
   "pygments_lexer": "ipython3",
   "version": "3.6.5"
  }
 },
 "nbformat": 4,
 "nbformat_minor": 2
}
